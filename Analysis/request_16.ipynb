{
 "cells": [
  {
   "cell_type": "code",
   "execution_count": 1,
   "metadata": {},
   "outputs": [],
   "source": [
    "import mysql.connector\n",
    "import pandas as pd\n",
    "import mysql.connector\n",
    "import matplotlib.pyplot as plt\n",
    "\n",
    "# Connect to the MySQL database\n",
    "cnx = mysql.connector.connect(\n",
    "    host='localhost',\n",
    "    user='root',\n",
    "    password='hannibal1999',\n",
    "    database='crawler_lotech'\n",
    ")\n",
    "cursor = cnx.cursor()\n",
    "\n",
    "\n",
    "\n",
    "query = \"\"\"select title,score,price from product\n",
    "order by score desc;\"\"\"\n",
    "cursor.execute(query)\n",
    "rows = cursor.fetchall()\n",
    "\n",
    "\n"
   ]
  },
  {
   "cell_type": "code",
   "execution_count": 2,
   "metadata": {},
   "outputs": [],
   "source": [
    "crawl_df = pd.DataFrame(rows , columns=['model_name' , 'score' , 'price'])\n",
    "crawl_df['model_name'] = crawl_df['model_name'].astype(str)\n",
    "crawl_df['model_name'] = crawl_df['model_name'].str.extract(r'لپ تاپ\\s(.*?)(?=\\s[^\\x00-\\x7F]+|$)')\n",
    "crawl_df.loc[crawl_df['model_name'] == 'مک', 'model_name'] = 'mac'\n",
    "crawl_df.loc[crawl_df['model_name'] == 'سرفیس', 'model_name'] = 'surface'\n",
    "crawl_df.to_csv(\"request_16.csv\", index=False)"
   ]
  },
  {
   "cell_type": "code",
   "execution_count": 3,
   "metadata": {},
   "outputs": [
    {
     "data": {
      "image/png": "[encoded data removed]",
      "text/plain": [
       "<Figure size 640x480 with 1 Axes>"
      ]
     },
     "metadata": {},
     "output_type": "display_data"
    }
   ],
   "source": [
    "plt.scatter(crawl_df['score'], crawl_df['price'])\n",
    "plt.xlabel('score')\n",
    "plt.ylabel('price')\n",
    "plt.title('price of sold grouped by score')\n",
    "plt.show()\n"
   ]
  },
  {
   "cell_type": "code",
   "execution_count": 4,
   "metadata": {},
   "outputs": [],
   "source": [
    "crawl_df = crawl_df.head(100)"
   ]
  },
  {
   "cell_type": "code",
   "execution_count": 5,
   "metadata": {},
   "outputs": [
    {
     "data": {
      "text/html": [
       "<div>\n",
       "<style scoped>\n",
       "    .dataframe tbody tr th:only-of-type {\n",
       "        vertical-align: middle;\n",
       "    }\n",
       "\n",
       "    .dataframe tbody tr th {\n",
       "        vertical-align: top;\n",
       "    }\n",
       "\n",
       "    .dataframe thead th {\n",
       "        text-align: right;\n",
       "    }\n",
       "</style>\n",
       "<table border=\"1\" class=\"dataframe\">\n",
       "  <thead>\n",
       "    <tr style=\"text-align: right;\">\n",
       "      <th></th>\n",
       "      <th>model_name</th>\n",
       "      <th>score</th>\n",
       "      <th>price</th>\n",
       "    </tr>\n",
       "  </thead>\n",
       "  <tbody>\n",
       "    <tr>\n",
       "      <th>0</th>\n",
       "      <td>Legion 5 Pro</td>\n",
       "      <td>10.0</td>\n",
       "      <td>55500000</td>\n",
       "    </tr>\n",
       "    <tr>\n",
       "      <th>1</th>\n",
       "      <td>TUF Gaming F15 FX507ZM</td>\n",
       "      <td>10.0</td>\n",
       "      <td>62000000</td>\n",
       "    </tr>\n",
       "    <tr>\n",
       "      <th>2</th>\n",
       "      <td>TUF Dash F15 FX516PR</td>\n",
       "      <td>10.0</td>\n",
       "      <td>60500000</td>\n",
       "    </tr>\n",
       "    <tr>\n",
       "      <th>3</th>\n",
       "      <td>IdeaPad 5</td>\n",
       "      <td>10.0</td>\n",
       "      <td>31199000</td>\n",
       "    </tr>\n",
       "    <tr>\n",
       "      <th>4</th>\n",
       "      <td>TUF Dash F15 TUF516PE</td>\n",
       "      <td>10.0</td>\n",
       "      <td>52000000</td>\n",
       "    </tr>\n",
       "    <tr>\n",
       "      <th>...</th>\n",
       "      <td>...</td>\n",
       "      <td>...</td>\n",
       "      <td>...</td>\n",
       "    </tr>\n",
       "    <tr>\n",
       "      <th>95</th>\n",
       "      <td>surface</td>\n",
       "      <td>8.0</td>\n",
       "      <td>58712000</td>\n",
       "    </tr>\n",
       "    <tr>\n",
       "      <th>96</th>\n",
       "      <td>mac</td>\n",
       "      <td>8.0</td>\n",
       "      <td>92999000</td>\n",
       "    </tr>\n",
       "    <tr>\n",
       "      <th>97</th>\n",
       "      <td>surface</td>\n",
       "      <td>8.0</td>\n",
       "      <td>91899000</td>\n",
       "    </tr>\n",
       "    <tr>\n",
       "      <th>98</th>\n",
       "      <td>TUF Gaming A15 FA507RE</td>\n",
       "      <td>8.0</td>\n",
       "      <td>50600000</td>\n",
       "    </tr>\n",
       "    <tr>\n",
       "      <th>99</th>\n",
       "      <td>VivoBook R565EP</td>\n",
       "      <td>8.0</td>\n",
       "      <td>26500000</td>\n",
       "    </tr>\n",
       "  </tbody>\n",
       "</table>\n",
       "<p>100 rows × 3 columns</p>\n",
       "</div>"
      ],
      "text/plain": [
       "                model_name  score     price\n",
       "0             Legion 5 Pro   10.0  55500000\n",
       "1   TUF Gaming F15 FX507ZM   10.0  62000000\n",
       "2     TUF Dash F15 FX516PR   10.0  60500000\n",
       "3                IdeaPad 5   10.0  31199000\n",
       "4    TUF Dash F15 TUF516PE   10.0  52000000\n",
       "..                     ...    ...       ...\n",
       "95                 surface    8.0  58712000\n",
       "96                     mac    8.0  92999000\n",
       "97                 surface    8.0  91899000\n",
       "98  TUF Gaming A15 FA507RE    8.0  50600000\n",
       "99         VivoBook R565EP    8.0  26500000\n",
       "\n",
       "[100 rows x 3 columns]"
      ]
     },
     "execution_count": 5,
     "metadata": {},
     "output_type": "execute_result"
    }
   ],
   "source": [
    "crawl_df"
   ]
  },
  {
   "cell_type": "code",
   "execution_count": 6,
   "metadata": {},
   "outputs": [
    {
     "data": {
      "text/html": [
       "<div>\n",
       "<style scoped>\n",
       "    .dataframe tbody tr th:only-of-type {\n",
       "        vertical-align: middle;\n",
       "    }\n",
       "\n",
       "    .dataframe tbody tr th {\n",
       "        vertical-align: top;\n",
       "    }\n",
       "\n",
       "    .dataframe thead th {\n",
       "        text-align: right;\n",
       "    }\n",
       "</style>\n",
       "<table border=\"1\" class=\"dataframe\">\n",
       "  <thead>\n",
       "    <tr style=\"text-align: right;\">\n",
       "      <th></th>\n",
       "      <th>model_name</th>\n",
       "    </tr>\n",
       "  </thead>\n",
       "  <tbody>\n",
       "    <tr>\n",
       "      <th>0</th>\n",
       "      <td>Vostro 3568</td>\n",
       "    </tr>\n",
       "    <tr>\n",
       "      <th>1</th>\n",
       "      <td>Yoga 720-13IKB</td>\n",
       "    </tr>\n",
       "    <tr>\n",
       "      <th>2</th>\n",
       "      <td>IdeaPad Y700-15ISK</td>\n",
       "    </tr>\n",
       "    <tr>\n",
       "      <th>3</th>\n",
       "      <td>Inspiron 5370</td>\n",
       "    </tr>\n",
       "    <tr>\n",
       "      <th>4</th>\n",
       "      <td>Aspire E5-576G</td>\n",
       "    </tr>\n",
       "    <tr>\n",
       "      <th>...</th>\n",
       "      <td>...</td>\n",
       "    </tr>\n",
       "    <tr>\n",
       "      <th>571</th>\n",
       "      <td>V110-15IAP (N3350/4GB/128GB/No</td>\n",
       "    </tr>\n",
       "    <tr>\n",
       "      <th>572</th>\n",
       "      <td>V131 (X5-Z8350/4GB/32GB/FHD/W10)</td>\n",
       "    </tr>\n",
       "    <tr>\n",
       "      <th>573</th>\n",
       "      <td>X541NA (N3350/4GB/1TB/FHD/W10)</td>\n",
       "    </tr>\n",
       "    <tr>\n",
       "      <th>574</th>\n",
       "      <td>GT73EVR 7RE</td>\n",
       "    </tr>\n",
       "    <tr>\n",
       "      <th>575</th>\n",
       "      <td>15-bs018nq (i3-6006U/4GB/500GB/FHD/No</td>\n",
       "    </tr>\n",
       "  </tbody>\n",
       "</table>\n",
       "<p>576 rows × 1 columns</p>\n",
       "</div>"
      ],
      "text/plain": [
       "                                model_name\n",
       "0                              Vostro 3568\n",
       "1                           Yoga 720-13IKB\n",
       "2                       IdeaPad Y700-15ISK\n",
       "3                            Inspiron 5370\n",
       "4                           Aspire E5-576G\n",
       "..                                     ...\n",
       "571         V110-15IAP (N3350/4GB/128GB/No\n",
       "572       V131 (X5-Z8350/4GB/32GB/FHD/W10)\n",
       "573         X541NA (N3350/4GB/1TB/FHD/W10)\n",
       "574                            GT73EVR 7RE\n",
       "575  15-bs018nq (i3-6006U/4GB/500GB/FHD/No\n",
       "\n",
       "[576 rows x 1 columns]"
      ]
     },
     "execution_count": 6,
     "metadata": {},
     "output_type": "execute_result"
    }
   ],
   "source": [
    "cnx = mysql.connector.connect(\n",
    "    host='localhost',\n",
    "    user='root',\n",
    "    password='hannibal1999',\n",
    "    database='lotech'\n",
    ")\n",
    "lotech_query = \"\"\"\n",
    "select distinct model_name from products;\"\"\"\n",
    "cursor = cnx.cursor()\n",
    "cursor.execute(lotech_query)\n",
    "rows = cursor.fetchall()\n",
    "lotech_df = pd.DataFrame(rows , columns=['model_name'])\n",
    "\n",
    "lotech_df = lotech_df.drop_duplicates().reset_index(drop=True)\n",
    "#lotech_df.drop(columns=['model_name'] , inplace=True)\n",
    "lotech_df"
   ]
  },
  {
   "cell_type": "code",
   "execution_count": 7,
   "metadata": {},
   "outputs": [],
   "source": [
    "cursor.close()\n",
    "cnx.close()"
   ]
  },
  {
   "cell_type": "code",
   "execution_count": 8,
   "metadata": {},
   "outputs": [],
   "source": [
    "lotech_df_filtered = lotech_df[lotech_df['model_name'].str.contains('|'.join(crawl_df['model_name']))]\n"
   ]
  },
  {
   "cell_type": "code",
   "execution_count": 9,
   "metadata": {},
   "outputs": [],
   "source": [
    "lotech_df_filtered.reset_index(drop=True)\n",
    "lotech_df_filtered.to_csv(\"request_16_best.csv\", index=True)"
   ]
  }
 ],
 "metadata": {
  "kernelspec": {
   "display_name": "myvenv",
   "language": "python",
   "name": "python3"
  },
  "language_info": {
   "codemirror_mode": {
    "name": "ipython",
    "version": 3
   },
   "file_extension": ".py",
   "mimetype": "text/x-python",
   "name": "python",
   "nbconvert_exporter": "python",
   "pygments_lexer": "ipython3",
   "version": "3.11.4"
  }
 },
 "nbformat": 4,
 "nbformat_minor": 2
}
