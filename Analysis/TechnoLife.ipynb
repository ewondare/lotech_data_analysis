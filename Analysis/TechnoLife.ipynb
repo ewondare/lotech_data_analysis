{
 "cells": [
  {
   "cell_type": "code",
   "execution_count": 19,
   "id": "a741afa5-ce17-47c0-8116-12e431f76d5e",
   "metadata": {},
   "outputs": [],
   "source": [
    "# Importing the regular expressions library\n",
    "import re\n",
    "import pandas as pd \n",
    "\n",
    "df=pd.read_csv('technolife.csv')\n",
    "columns_to_clean=['Screen_Size', 'Screen','CPU', 'RAM', 'HDD', 'SSD', 'Weight','Discount']\n",
    " # Function to convert Persian numbers to English numbers\n",
    "def persian_to_english_numbers(input_str):\n",
    "    persian_nums = {'۰': '0', '۱': '1', '۲': '2', '۳': '3', '۴': '4', '۵': '5', '۶': '6', '۷': '7', '۸': '8', '۹': '9'}\n",
    "    return ''.join([persian_nums.get(char, char) for char in str(input_str)])\n",
    "\n",
    "# Apply the function to the cleaned columns\n",
    "for col in columns_to_clean:\n",
    "    df[col] = df[col].apply(lambda x: persian_to_english_numbers(x) if pd.notnull(x) else x)\n",
    "\n",
    "# def clean_column(column):\n",
    "#     return column.apply(lambda x: re.sub(r'[^0-9.]+', '', str(x)) if pd.notnull(x) else x)\n",
    "def clean_column_keep_english(column):\n",
    "    return column.apply(lambda x: re.sub(r'[\\u0600-\\u06FF]+', '', str(x)) if pd.notnull(x) else x)\n",
    "\n",
    "\n",
    "columns_to_clean2=['Screen','Screen_Size', 'RAM', 'HDD', 'SSD', 'Weight','Discount']\n",
    "# Cleaning the specified columns\n",
    "for col in columns_to_clean2:\n",
    "    df[col] = clean_column_keep_english(df[col])\n",
    "\n",
    "df.to_csv('technolife_cleaned.csv', index=False)"
   ]
  },
  {
   "cell_type": "code",
   "execution_count": 12,
   "id": "22020945-ecf1-4b10-8389-4e3e269da0bf",
   "metadata": {},
   "outputs": [
    {
     "data": {
      "text/plain": [
       "Index(['Manufacturer', 'Model_Name', 'Category', 'Screen_Size', 'Screen',\n",
       "       'CPU', 'RAM', 'HDD', 'SSD', 'GPU', 'OS', 'OS_Version', 'Weight',\n",
       "       'Price', 'Available', 'Score', 'Quantity', 'Number_of_sellers',\n",
       "       'Discount'],\n",
       "      dtype='object')"
      ]
     },
     "execution_count": 12,
     "metadata": {},
     "output_type": "execute_result"
    }
   ],
   "source": [
    "df.columns[2:]"
   ]
  },
  {
   "cell_type": "code",
   "execution_count": null,
   "id": "e4fddd21-ac97-44a7-bc7d-566d5caf8167",
   "metadata": {},
   "outputs": [],
   "source": []
  }
 ],
 "metadata": {
  "kernelspec": {
   "display_name": "Python 3 (ipykernel)",
   "language": "python",
   "name": "python3"
  },
  "language_info": {
   "codemirror_mode": {
    "name": "ipython",
    "version": 3
   },
   "file_extension": ".py",
   "mimetype": "text/x-python",
   "name": "python",
   "nbconvert_exporter": "python",
   "pygments_lexer": "ipython3",
   "version": "3.11.1"
  }
 },
 "nbformat": 4,
 "nbformat_minor": 5
}
