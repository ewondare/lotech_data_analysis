{
 "cells": [
  {
   "cell_type": "code",
   "execution_count": 2,
   "metadata": {},
   "outputs": [],
   "source": [
    "import pandas as pd\n",
    "import numpy as np\n",
    "import mysql.connector\n",
    "import altair as alt\n",
    "import matplotlib.pyplot as plt\n",
    "from wordcloud import WordCloud\n",
    "from PIL import Image\n",
    "from scipy.stats import ttest_rel\n",
    "from scipy.stats import shapiro, levene, ttest_ind\n",
    "import seaborn as sns\n",
    "import matplotlib.pyplot as plt\n",
    "\n",
    "from sqlalchemy import create_engine\n",
    "from urllib.parse import quote_plus\n",
    "from sqlalchemy_utils import create_database, database_exists\n",
    "from sqlalchemy import MetaData\n",
    "import pymysql\n",
    "from sqlalchemy.orm import Session\n",
    "from sqlalchemy import Table, Column, Integer, BIGINT, String, BigInteger, Boolean, Float, Unicode\n",
    "from sqlalchemy import ForeignKey, Text\n",
    "from sqlalchemy.ext.declarative import declarative_base\n",
    "from sqlalchemy.dialects.mysql import LONGTEXT\n",
    "from sqlalchemy import create_engine"
   ]
  },
  {
   "cell_type": "code",
   "execution_count": 3,
   "metadata": {},
   "outputs": [],
   "source": [
    "mydb = mysql.connector.connect(\n",
    "    host=\"localhost\",\n",
    "    user=\"root\",\n",
    "    password=\"3901\",\n",
    "    database=\"lotech\",\n",
    "    auth_plugin='mysql_native_password'\n",
    ")"
   ]
  },
  {
   "cell_type": "code",
   "execution_count": 4,
   "metadata": {},
   "outputs": [],
   "source": [
    "query = \"\"\"\n",
    "select order_details.order_id,\n",
    "       order_details.total_price,\n",
    "       orders.shamsi_date\n",
    "from order_details\n",
    "         inner join orders on order_details.order_id = orders.id\n",
    "\"\"\"\n",
    "mycursor = mydb.cursor()\n",
    "mycursor.execute(query)\n",
    "orders = mycursor.fetchall()\n",
    "df_orders = pd.DataFrame(\n",
    "    orders,\n",
    "    columns=['order_id', 'total_price', 'shamsi_date'])"
   ]
  },
  {
   "cell_type": "code",
   "execution_count": 5,
   "metadata": {},
   "outputs": [
    {
     "data": {
      "text/html": [
       "<div>\n",
       "<style scoped>\n",
       "    .dataframe tbody tr th:only-of-type {\n",
       "        vertical-align: middle;\n",
       "    }\n",
       "\n",
       "    .dataframe tbody tr th {\n",
       "        vertical-align: top;\n",
       "    }\n",
       "\n",
       "    .dataframe thead th {\n",
       "        text-align: right;\n",
       "    }\n",
       "</style>\n",
       "<table border=\"1\" class=\"dataframe\">\n",
       "  <thead>\n",
       "    <tr style=\"text-align: right;\">\n",
       "      <th></th>\n",
       "      <th>order_id</th>\n",
       "      <th>total_price</th>\n",
       "      <th>shamsi_date</th>\n",
       "      <th>month</th>\n",
       "    </tr>\n",
       "  </thead>\n",
       "  <tbody>\n",
       "    <tr>\n",
       "      <th>0</th>\n",
       "      <td>1</td>\n",
       "      <td>3450000</td>\n",
       "      <td>1396-10-26</td>\n",
       "      <td>10</td>\n",
       "    </tr>\n",
       "    <tr>\n",
       "      <th>1</th>\n",
       "      <td>2</td>\n",
       "      <td>3400000</td>\n",
       "      <td>1394-04-21</td>\n",
       "      <td>4</td>\n",
       "    </tr>\n",
       "    <tr>\n",
       "      <th>2</th>\n",
       "      <td>3</td>\n",
       "      <td>44900000</td>\n",
       "      <td>1402-05-24</td>\n",
       "      <td>5</td>\n",
       "    </tr>\n",
       "    <tr>\n",
       "      <th>3</th>\n",
       "      <td>4</td>\n",
       "      <td>12550000</td>\n",
       "      <td>1397-06-17</td>\n",
       "      <td>6</td>\n",
       "    </tr>\n",
       "    <tr>\n",
       "      <th>4</th>\n",
       "      <td>5</td>\n",
       "      <td>2050000</td>\n",
       "      <td>1392-09-30</td>\n",
       "      <td>9</td>\n",
       "    </tr>\n",
       "    <tr>\n",
       "      <th>...</th>\n",
       "      <td>...</td>\n",
       "      <td>...</td>\n",
       "      <td>...</td>\n",
       "      <td>...</td>\n",
       "    </tr>\n",
       "    <tr>\n",
       "      <th>1018200</th>\n",
       "      <td>1017077</td>\n",
       "      <td>3800000</td>\n",
       "      <td>1395-11-06</td>\n",
       "      <td>11</td>\n",
       "    </tr>\n",
       "    <tr>\n",
       "      <th>1018201</th>\n",
       "      <td>1017078</td>\n",
       "      <td>1300000</td>\n",
       "      <td>1391-04-24</td>\n",
       "      <td>4</td>\n",
       "    </tr>\n",
       "    <tr>\n",
       "      <th>1018202</th>\n",
       "      <td>1017079</td>\n",
       "      <td>16700000</td>\n",
       "      <td>1399-05-18</td>\n",
       "      <td>5</td>\n",
       "    </tr>\n",
       "    <tr>\n",
       "      <th>1018203</th>\n",
       "      <td>1017080</td>\n",
       "      <td>3750000</td>\n",
       "      <td>1394-02-04</td>\n",
       "      <td>2</td>\n",
       "    </tr>\n",
       "    <tr>\n",
       "      <th>1018204</th>\n",
       "      <td>1017081</td>\n",
       "      <td>1050000</td>\n",
       "      <td>1390-11-06</td>\n",
       "      <td>11</td>\n",
       "    </tr>\n",
       "  </tbody>\n",
       "</table>\n",
       "<p>1018205 rows × 4 columns</p>\n",
       "</div>"
      ],
      "text/plain": [
       "         order_id  total_price shamsi_date  month\n",
       "0               1      3450000  1396-10-26     10\n",
       "1               2      3400000  1394-04-21      4\n",
       "2               3     44900000  1402-05-24      5\n",
       "3               4     12550000  1397-06-17      6\n",
       "4               5      2050000  1392-09-30      9\n",
       "...           ...          ...         ...    ...\n",
       "1018200   1017077      3800000  1395-11-06     11\n",
       "1018201   1017078      1300000  1391-04-24      4\n",
       "1018202   1017079     16700000  1399-05-18      5\n",
       "1018203   1017080      3750000  1394-02-04      2\n",
       "1018204   1017081      1050000  1390-11-06     11\n",
       "\n",
       "[1018205 rows x 4 columns]"
      ]
     },
     "execution_count": 5,
     "metadata": {},
     "output_type": "execute_result"
    }
   ],
   "source": [
    "df_orders['month'] = df_orders['shamsi_date'].apply(lambda x: int(x.split('-')[1]))\n",
    "df_orders"
   ]
  },
  {
   "cell_type": "code",
   "execution_count": 6,
   "metadata": {},
   "outputs": [
    {
     "data": {
      "text/plain": [
       "month\n",
       "1     1261795345500\n",
       "2     1286823997000\n",
       "3     1261959090500\n",
       "4     1314044448000\n",
       "5     1337549254000\n",
       "6     1419271919000\n",
       "7     1309230545500\n",
       "8     1079450326500\n",
       "9     1073713521000\n",
       "10    1095087545500\n",
       "11    1142384242000\n",
       "12    1131005920500\n",
       "Name: total_price, dtype: int64"
      ]
     },
     "execution_count": 6,
     "metadata": {},
     "output_type": "execute_result"
    }
   ],
   "source": [
    "monthly_sales = df_orders.groupby('month')['total_price'].sum()\n",
    "monthly_sales_df = pd.DataFrame({\n",
    "    'index': monthly_sales.index,\n",
    "    'value': monthly_sales.values\n",
    "})\n",
    "monthly_sales_df.to_csv('6-monthly-sales.csv', index=False)\n",
    "monthly_sales"
   ]
  },
  {
   "cell_type": "code",
   "execution_count": 20,
   "metadata": {},
   "outputs": [
    {
     "data": {
      "image/png": "[encoded data removed]",
      "text/plain": [
       "<Figure size 640x480 with 1 Axes>"
      ]
     },
     "metadata": {},
     "output_type": "display_data"
    }
   ],
   "source": [
    "plt.plot(monthly_sales.index, monthly_sales.values, marker='o')\n",
    "plt.xlabel('ماه')\n",
    "plt.ylabel('جمع کل فروش')\n",
    "plt.title('تحلیل فروش ماهانه')\n",
    "plt.show()"
   ]
  },
  {
   "cell_type": "code",
   "execution_count": 23,
   "metadata": {},
   "outputs": [
    {
     "name": "stdout",
     "output_type": "stream",
     "text": [
      "درصدهای تخصیص بودجه به هر ماه:\n",
      "month\n",
      "1     0.083449\n",
      "2     0.085210\n",
      "3     0.083657\n",
      "4     0.086643\n",
      "5     0.088204\n",
      "6     0.093832\n",
      "7     0.092255\n",
      "8     0.079870\n",
      "9     0.074281\n",
      "10    0.075203\n",
      "11    0.077924\n",
      "12    0.079471\n",
      "Name: total_price, dtype: float64\n",
      "\n",
      "بودجه‌های تخصیص یافته به هر ماه:\n",
      "month\n",
      "1     83448740.56\n",
      "2     85210412.97\n",
      "3     83656998.39\n",
      "4     86643176.89\n",
      "5     88204077.83\n",
      "6     93832268.07\n",
      "7     92255031.78\n",
      "8     79869604.39\n",
      "9     74281127.42\n",
      "10    75202856.75\n",
      "11    77924336.83\n",
      "12    79471368.12\n",
      "Name: total_price, dtype: float64\n"
     ]
    }
   ],
   "source": [
    "# mean sells for every month\n",
    "monthly_avg_sales = df_orders.groupby('month')['total_price'].mean()\n",
    "\n",
    "# persent for every month\n",
    "budget_allocation_percentages = monthly_avg_sales / monthly_avg_sales.sum()\n",
    "\n",
    "#example\n",
    "annual_budget = 1000000000 \n",
    "budget_allocation = (budget_allocation_percentages * annual_budget).round(2)\n",
    "\n",
    "print(\"درصدهای تخصیص بودجه به هر ماه:\")\n",
    "print(budget_allocation_percentages)\n",
    "budget_allocation_percentages_df = pd.DataFrame({\n",
    "    'index': budget_allocation_percentages.index,\n",
    "    'value': budget_allocation_percentages.values\n",
    "})\n",
    "budget_allocation_percentages_df.to_csv('6-budget-allocation-percentages.csv', index=False)\n",
    "\n",
    "print(\"\\nبودجه‌های تخصیص یافته به هر ماه:\")\n",
    "print(budget_allocation)"
   ]
  }
 ],
 "metadata": {
  "kernelspec": {
   "display_name": "quera",
   "language": "python",
   "name": "python3"
  },
  "language_info": {
   "codemirror_mode": {
    "name": "ipython",
    "version": 3
   },
   "file_extension": ".py",
   "mimetype": "text/x-python",
   "name": "python",
   "nbconvert_exporter": "python",
   "pygments_lexer": "ipython3",
   "version": "3.9.13"
  }
 },
 "nbformat": 4,
 "nbformat_minor": 2
}
